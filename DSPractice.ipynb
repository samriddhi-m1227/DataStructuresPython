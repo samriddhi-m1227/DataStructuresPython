{
 "cells": [
  {
   "cell_type": "markdown",
   "id": "8b8ecda4-38d6-4f57-8f9c-446061d8ef64",
   "metadata": {},
   "source": [
    "# Practice "
   ]
  },
  {
   "cell_type": "markdown",
   "id": "5b1582a5-6318-4dba-a8bb-5de6c3b22abb",
   "metadata": {},
   "source": [
    "## Lists:"
   ]
  },
  {
   "cell_type": "markdown",
   "id": "72a1be07-66c0-40e0-a3c6-b8c03875dc51",
   "metadata": {},
   "source": [
    "Question - Appending and Removing Elements: Create an empty list called my_list. Append\n",
    "the numbers 1, 2, and 3 to my_list. Then remove the number 2 from the list."
   ]
  },
  {
   "cell_type": "code",
   "execution_count": 7,
   "id": "ed1d3e00-4e2a-4aa4-b4f6-8ce871bc64dc",
   "metadata": {},
   "outputs": [
    {
     "name": "stdout",
     "output_type": "stream",
     "text": [
      "[1, 2, 3]\n",
      "[1, 3]\n"
     ]
    }
   ],
   "source": [
    "my_list=[]  #empty set \n",
    "\n",
    "#append values \n",
    "my_list.append(1)\n",
    "my_list.append(2)\n",
    "my_list.append(3)\n",
    "print(my_list)\n",
    "\n",
    "\n",
    "#remove \n",
    "my_list.remove(2)\n",
    "print(my_list)\n"
   ]
  },
  {
   "cell_type": "markdown",
   "id": "df76061f-eeff-4d3c-be31-182b502d1e8b",
   "metadata": {},
   "source": [
    "Question- Accessing Elements: Create a list called fruits containing the strings \"apple\",\n",
    "\"banana\", \"cherry\", \"date\". Print the second element of the list."
   ]
  },
  {
   "cell_type": "code",
   "execution_count": 9,
   "id": "43f7f1a8-12f5-4b6d-942b-c0f9369dd7f9",
   "metadata": {},
   "outputs": [
    {
     "name": "stdout",
     "output_type": "stream",
     "text": [
      "banana\n"
     ]
    }
   ],
   "source": [
    "fruits=['apple', 'banana', 'cherry', 'date']   #list\n",
    "print(fruits[1])   #print the second element"
   ]
  },
  {
   "cell_type": "markdown",
   "id": "beab3003-7ee9-4943-a43d-71dfb752b06e",
   "metadata": {},
   "source": [
    "Question- Slicing: Create a list called numbers containing the numbers from 1 to 10. Print a\n",
    "slice of the list containing elements from the third element to the sixth element."
   ]
  },
  {
   "cell_type": "code",
   "execution_count": 11,
   "id": "f696c916-1522-4bde-be51-7f96b0fee01e",
   "metadata": {},
   "outputs": [
    {
     "name": "stdout",
     "output_type": "stream",
     "text": [
      "[3, 4, 5, 6]\n"
     ]
    }
   ],
   "source": [
    "numbers=[1,2,3,4,5,6,7,8,9,10]\n",
    "print(numbers[2:6])   #slice from index 2 to index 6 (will print element 6)"
   ]
  },
  {
   "cell_type": "markdown",
   "id": "368bc387-8fd8-41f4-94af-c5b74fd14af7",
   "metadata": {},
   "source": [
    "## Sets:"
   ]
  },
  {
   "cell_type": "markdown",
   "id": "4a9b7ba8-47aa-4525-91c9-2d6a9e0b3eb7",
   "metadata": {},
   "source": [
    "Question - Adding and Removing Elements: Create an empty set called my_set. Add the\n",
    "numbers 1, 2, and 3 to my_set. Then remove the number 2 from the set"
   ]
  },
  {
   "cell_type": "code",
   "execution_count": 12,
   "id": "206ef85c-a039-48a0-a593-7ffecaa169dd",
   "metadata": {},
   "outputs": [
    {
     "name": "stdout",
     "output_type": "stream",
     "text": [
      "{1, 3}\n"
     ]
    }
   ],
   "source": [
    "my_set={1,2,3   #set\n",
    "my_set.remove(2)  #remove number 2 \n",
    "print(my_set)"
   ]
  },
  {
   "cell_type": "markdown",
   "id": "8a3877ba-983b-4729-8703-42b0cddb587a",
   "metadata": {},
   "source": [
    "Question - Operations: Create two sets called set1 and set2, each containing a few\n",
    "numbers. Print the union, intersection, and difference of the two sets."
   ]
  },
  {
   "cell_type": "code",
   "execution_count": 16,
   "id": "cc22a83f-fcb1-4023-9909-68620e65f4fb",
   "metadata": {},
   "outputs": [
    {
     "name": "stdout",
     "output_type": "stream",
     "text": [
      "{3, 5, 6, 7, 8, 9}\n",
      "{5, 7}\n",
      "{8, 6}\n"
     ]
    }
   ],
   "source": [
    "set1={5,6,7,8}\n",
    "set2={3,5,7,9}\n",
    "print(set1 | set2)   #union\n",
    "print(set1 & set2)  #intersection\n",
    "print(set1-set2)    #difference\n"
   ]
  },
  {
   "cell_type": "markdown",
   "id": "b6bb265a-9a76-4fc4-958b-fd0523125ba8",
   "metadata": {},
   "source": [
    "# Tuples:"
   ]
  },
  {
   "cell_type": "markdown",
   "id": "2b0312fb-26f1-44fd-bd92-963b83e126bb",
   "metadata": {},
   "source": [
    "Question - Accessing Elements: Create a tuple called coordinates containing the latitude\n",
    "and longitude of a location (e.g., (40.7128, -74.0060) for New York City). Print the latitude\n",
    "and longitude separately."
   ]
  },
  {
   "cell_type": "code",
   "execution_count": 20,
   "id": "3cb7ae21-dff4-4388-91d3-d0c70cd9ee35",
   "metadata": {},
   "outputs": [
    {
     "name": "stdout",
     "output_type": "stream",
     "text": [
      "40.7218\n",
      "-74.006\n"
     ]
    }
   ],
   "source": [
    "coordinates=(40.7218, -74.0060)  #latitude and longitude for NYC\n",
    "print(coordinates[0])\n",
    "print(coordinates[1])\n"
   ]
  },
  {
   "cell_type": "markdown",
   "id": "2b11b01a-5e66-4bc6-b503-76df5e565b45",
   "metadata": {},
   "source": [
    "Question - Packing and Unpacking: Create a tuple called person containing information\n",
    "about a person, such as their name, age, and city. Then unpack the tuple into individual\n",
    "variables"
   ]
  },
  {
   "cell_type": "code",
   "execution_count": 34,
   "id": "4fbf4a30-9262-447c-afe4-481ed153e7e4",
   "metadata": {},
   "outputs": [
    {
     "name": "stdout",
     "output_type": "stream",
     "text": [
      "Sam\n",
      "19\n",
      "Roseville\n"
     ]
    }
   ],
   "source": [
    "person = (\"Sam\", 19, \"Roseville\")\n",
    "\n",
    "# Unpack the tuple into individual variables\n",
    "name, age, city = person\n",
    "\n",
    "#Print the variables\n",
    "print(name)\n",
    "print(age)\n",
    "print(city)"
   ]
  },
  {
   "cell_type": "code",
   "execution_count": null,
   "id": "5c1d201a-cdf7-4b5f-96a8-f779f335cd86",
   "metadata": {},
   "outputs": [],
   "source": []
  }
 ],
 "metadata": {
  "kernelspec": {
   "display_name": "Python 3 (ipykernel)",
   "language": "python",
   "name": "python3"
  },
  "language_info": {
   "codemirror_mode": {
    "name": "ipython",
    "version": 3
   },
   "file_extension": ".py",
   "mimetype": "text/x-python",
   "name": "python",
   "nbconvert_exporter": "python",
   "pygments_lexer": "ipython3",
   "version": "3.11.7"
  }
 },
 "nbformat": 4,
 "nbformat_minor": 5
}
