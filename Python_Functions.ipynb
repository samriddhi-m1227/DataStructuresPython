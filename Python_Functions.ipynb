{
 "cells": [
  {
   "cell_type": "markdown",
   "id": "55ef9a92-bbef-46c9-b324-117404ad8d66",
   "metadata": {},
   "source": [
    "## Introduction to Functions\n",
    "\n",
    "Definition: A function is a block of organized, reusable code that is used to perform a single, related action. Functions provide better modularity for your application and a high degree of code reusability.\n"
   ]
  },
  {
   "cell_type": "code",
   "execution_count": null,
   "id": "3ada7f73-d789-4b0b-85ab-5a6fce9d6494",
   "metadata": {},
   "outputs": [],
   "source": [
    "\"\"\"\n",
    "def function_name(parameters):\n",
    " \"\"\"\n",
    " Docstring explaining the function.\n",
    " \"\"\"\n",
    " # Function body\n",
    " return result\n",
    "\"\"\"\n"
   ]
  },
  {
   "cell_type": "markdown",
   "id": "9acb754a-2ca9-4258-ba92-d7f8a7093e4e",
   "metadata": {},
   "source": [
    "## Key Concepts\n",
    "1. Function Definition and Calling:\n",
    "- Define a function using the def keyword.\n",
    "- Call a function using its name followed by parentheses.\n",
    "2. Parameters and Arguments:\n",
    "- Parameters: Variables listed inside the parentheses in the function definition.\n",
    "- Arguments: Values passed to the function when it is called.\n",
    "3. Return Statement:\n",
    "- The return statement is used to exit a function and go back to the place from where it was called.\n",
    "4. Default Arguments:\n",
    "- Function arguments can have default values.\n",
    "5. Variable Scope:\n",
    "- Variables defined inside a function are local to that function."
   ]
  },
  {
   "cell_type": "code",
   "execution_count": 5,
   "id": "f44234ac-0680-47c0-bd52-75e2b7ac10c8",
   "metadata": {},
   "outputs": [
    {
     "name": "stdout",
     "output_type": "stream",
     "text": [
      "Hello, World!\n",
      "Hello, Alice!\n"
     ]
    }
   ],
   "source": [
    "# Function with default Arguments\n",
    "def greet (name=\"World\"):\n",
    "    \"\"\"\n",
    "    Function to greet a person with a default name.\n",
    "    \"\"\"\n",
    "    return f\"Hello, {name}!\"\n",
    "\n",
    "#Calling the fucntion\n",
    "print(greet())\n",
    "print(greet(\"Alice\"))"
   ]
  },
  {
   "cell_type": "code",
   "execution_count": 9,
   "id": "74f844a6-2510-42a0-a012-620ce6e33014",
   "metadata": {},
   "outputs": [
    {
     "name": "stdout",
     "output_type": "stream",
     "text": [
      "Add: 15, Subtract: 5, Multiply: 50, Divide: 2.0\n"
     ]
    }
   ],
   "source": [
    "# Function Returning Multiple Values \n",
    "def arithmetic_operations(a,b):\n",
    "    \"\"\"\n",
    "    Function to perform arithmetic operations.\n",
    "    \"\"\"\n",
    "    addition=a+b\n",
    "    subtraction=a-b\n",
    "    multiplication=a*b\n",
    "    division=a/b if b!=0 else None \n",
    "    return addition, subtraction, multiplication,division\n",
    "\n",
    "#Calling the function\n",
    "add, sub, mul, div= arithmetic_operations(10,5)\n",
    "print(f\"Add: {add}, Subtract: {sub}, Multiply: {mul}, Divide: {div}\")"
   ]
  },
  {
   "cell_type": "markdown",
   "id": "353d863e-642d-446b-a677-1be586b8d8ca",
   "metadata": {},
   "source": [
    "## Functions in Data Science"
   ]
  },
  {
   "cell_type": "code",
   "execution_count": 2,
   "id": "52432ef9-5dd1-4a77-8fc6-f4163b128502",
   "metadata": {},
   "outputs": [
    {
     "name": "stdout",
     "output_type": "stream",
     "text": [
      "   sepal_length  sepal_width  petal_length  petal_width      species\n",
      "0           5.1          3.5           1.4          0.2  Iris-setosa\n",
      "1           4.9          3.0           1.4          0.2  Iris-setosa\n",
      "2           4.7          3.2           1.3          0.2  Iris-setosa\n",
      "3           4.6          3.1           1.5          0.2  Iris-setosa\n",
      "4           5.0          3.6           1.4          0.2  Iris-setosa\n"
     ]
    }
   ],
   "source": [
    "# Reading Data\n",
    "import pandas as pd\n",
    "from sklearn.model_selection import train_test_split\n",
    "from sklearn.linear_model import LogisticRegression\n",
    "from sklearn.preprocessing import LabelEncoder\n",
    "def read_data(file_path):\n",
    "    \n",
    " \"\"\"\n",
    " Function to read CSV data.\n",
    " \"\"\"\n",
    " return pd.read_csv(file_path, header=None, names=['sepal_length', 'sepal_width', 'petal_length', 'petal_width', 'species'])\n",
    "                    \n",
    "# Example usage\n",
    "url = \"https://archive.ics.uci.edu/ml/machine-learning-databases/iris/iris.data\"\n",
    "df = read_data(url)\n",
    "print(df.head())\n"
   ]
  },
  {
   "cell_type": "code",
   "execution_count": 3,
   "id": "5205295c-e68a-4c20-8d5e-79b3e7ea2505",
   "metadata": {},
   "outputs": [
    {
     "name": "stdout",
     "output_type": "stream",
     "text": [
      "   sepal_length  sepal_width  petal_length  petal_width  species\n",
      "0           5.1          3.5           1.4          0.2        0\n",
      "1           4.9          3.0           1.4          0.2        0\n",
      "2           4.7          3.2           1.3          0.2        0\n",
      "3           4.6          3.1           1.5          0.2        0\n",
      "4           5.0          3.6           1.4          0.2        0\n"
     ]
    }
   ],
   "source": [
    "# Data Preprocessing\n",
    "def preprocess_data(df):\n",
    " \"\"\"\n",
    " Function to preprocess data.\n",
    " \"\"\"\n",
    "    \n",
    " # Encode the target variable\n",
    " label_encoder = LabelEncoder()\n",
    " df['species'] = label_encoder.fit_transform(df['species'])\n",
    " return df\n",
    "    \n",
    "# Preprocess the data\n",
    "df_clean = preprocess_data(df)\n",
    "print(df_clean.head())"
   ]
  },
  {
   "cell_type": "code",
   "execution_count": 4,
   "id": "65d3f40b-355e-4f38-ae8b-79e2262546de",
   "metadata": {},
   "outputs": [
    {
     "name": "stdout",
     "output_type": "stream",
     "text": [
      "Model accuracy: 1.0\n"
     ]
    }
   ],
   "source": [
    "# Model Training\n",
    "def train_model(X, y):\n",
    " \"\"\"\n",
    " Function to train a logistic regression model.\n",
    " \"\"\"\n",
    "    \n",
    " X_train, X_test, y_train, y_test = train_test_split(X, y, test_size=0.2, random_state=42)\n",
    " model = LogisticRegression(max_iter=200)\n",
    " model.fit(X_train, y_train)\n",
    " return model, X_test, y_test\n",
    "    \n",
    "# Example usage\n",
    "X = df_clean.drop(\"species\", axis=1)\n",
    "y = df_clean[\"species\"]\n",
    "model, X_test, y_test = train_model(X, y)\n",
    "print(f\"Model accuracy: {model.score(X_test, y_test)}\")"
   ]
  },
  {
   "cell_type": "markdown",
   "id": "7960daf7-a7ad-40ed-82c4-36228cf45f66",
   "metadata": {},
   "source": [
    "## Exercise\n",
    "A. Basic Function Creation:\n",
    "1. Write a function square that takes a number and returns its square.\n",
    "2. Write a function cube that takes a number and returns its cube.\n",
    "   \n",
    "B. Data Manipulation Functions:\n",
    "\n",
    "3.  Write a function filter_above_threshold that takes a DataFrame and a threshold, and returns a DataFrame with rows where a specified\n",
    "column's value is above the threshold.\n",
    "4. Write a function normalize_column that takes a DataFrame and a column name, and returns the DataFrame with the specified column\n",
    "normalized (values between 0 and 1).\n",
    "\n",
    "C. Model Evaluation:\n",
    "\n",
    "5. Write a function evaluate_model that takes a model, test features, and test labels, and returns the model's performance metrics (e.g.,\n",
    "accuracy, precision, recall).\n"
   ]
  },
  {
   "cell_type": "code",
   "execution_count": 5,
   "id": "b41c221f-0512-4b1b-9bea-1119f0533155",
   "metadata": {},
   "outputs": [
    {
     "name": "stdout",
     "output_type": "stream",
     "text": [
      "36\n"
     ]
    }
   ],
   "source": [
    "#A1:\n",
    "def square(number):\n",
    "\n",
    "    return(number*number)\n",
    "\n",
    "print(square(6))"
   ]
  },
  {
   "cell_type": "code",
   "execution_count": 9,
   "id": "4f3ed509-b4eb-484b-98f8-fee6737e1c27",
   "metadata": {},
   "outputs": [
    {
     "name": "stdout",
     "output_type": "stream",
     "text": [
      "8\n"
     ]
    }
   ],
   "source": [
    "#A2:\n",
    "def cube(number):\n",
    "\n",
    "    answer= pow(number,3)\n",
    "    return answer\n",
    "\n",
    "print(cube(2))"
   ]
  },
  {
   "cell_type": "code",
   "execution_count": 10,
   "id": "61369d3c-bdd4-484d-961d-49b77cebdd74",
   "metadata": {},
   "outputs": [],
   "source": [
    "#B3:\n",
    "def filter_above_threshold(df,column, threshold):\n",
    "    \n",
    "    filter_df=df[df[column]>threshold]\n",
    "    return filter_df\n",
    " "
   ]
  },
  {
   "cell_type": "code",
   "execution_count": 13,
   "id": "fb686450-f445-4a3c-9716-3b6dc642a53f",
   "metadata": {},
   "outputs": [],
   "source": [
    "#B4:\n",
    "#normalized_value= (val-min/max-min)\n",
    "\n",
    "def normalize_column(df,column_name):\n",
    "    column_min=df[column_name].min()\n",
    "    column_max=df[column_name].max()\n",
    "\n",
    "    df[column_name]=(df[column_name]-column_min)/(column_max-column_min)\n",
    "    return df\n"
   ]
  },
  {
   "cell_type": "code",
   "execution_count": null,
   "id": "13208ee7-ca20-4fb7-8f71-4a181abb29d6",
   "metadata": {},
   "outputs": [],
   "source": [
    "#C5:GO OVER THIS\n",
    "\n",
    "def evaluate_model(model,test_feautures,test_labels)"
   ]
  },
  {
   "cell_type": "markdown",
   "id": "68019889-3ab9-401d-af63-8d3cc94ea85f",
   "metadata": {},
   "source": [
    "## Sample Questions\n",
    "\n",
    "D. Theoretical Questions:\n",
    "\n",
    "6. What is the difference between a parameter and an argument?\n",
    "7. Explain the concept of variable scope with examples.\n",
    "\n",
    "E. Coding Questions:\n",
    "\n",
    "8. Implement a function that calculates the factorial of a number using recursion.\n",
    "9. Write a function that takes a list of numbers and returns a dictionary with the mean, median, and mode of the list\n",
    "\n",
    "F. Data Science Specific:\n",
    "\n",
    "10. Write a function to compute the Root Mean Squared Error (RMSE) for a set of predictions and actual values.\n",
    "11. Implement a function to split a DataFrame into training and testing sets with a specified ratio.\n"
   ]
  },
  {
   "cell_type": "markdown",
   "id": "2059981f-005d-4132-9225-0f5881d1dc28",
   "metadata": {},
   "source": [
    "#### D6 Answer:\n",
    "-A parameter is a variable that is taken in by a function, which specifies the input type for the function.\n",
    "-Whereas, an argument is the actual value given when calling the function\n",
    "\n",
    "#### D7 Answer:\n",
    "-Variable scope is the part of your code where a variable can be used or accessed. It is like the boundaries within which the variable exists. This includes Local scope, Non local scope,\n",
    "and Global scope "
   ]
  },
  {
   "cell_type": "code",
   "execution_count": 20,
   "id": "1600fa53-38e7-4d5a-a2f4-54a0ff45d1a0",
   "metadata": {},
   "outputs": [
    {
     "name": "stdout",
     "output_type": "stream",
     "text": [
      "300\n",
      "Hello\n",
      "300\n",
      "300\n"
     ]
    }
   ],
   "source": [
    "#D7 ex)\n",
    "\n",
    "#Local Scope: variable created inside of a function, which is only able \n",
    "#to be used inside the function\n",
    "\n",
    "def myfunc():\n",
    "  x = 300\n",
    "  print(x)\n",
    "\n",
    "myfunc()\n",
    "# print(x)  # This would cause an error because x is not accessible here\n",
    "\n",
    "\n",
    "\n",
    "#Non Local scope: used in nested function whose local scope is not defined \n",
    "\n",
    "def outer_func():\n",
    "    outer_var = \"Hi\"\n",
    "\n",
    "    def inner_func():\n",
    "        nonlocal outer_var\n",
    "        outer_var = \"Hello\"\n",
    "\n",
    "    inner_func()\n",
    "    print(outer_var)\n",
    "\n",
    "outer_func()\n",
    "#Output: Hello\n",
    "\n",
    "\n",
    "\n",
    "#Global Scope: variables availible within any scope, global and local \n",
    "\n",
    "x = 300\n",
    "\n",
    "def myfunc():\n",
    "  print(x)\n",
    "\n",
    "myfunc()\n",
    "print(x)\n",
    "\n",
    "#Output: \n",
    "#300\n",
    "#300"
   ]
  },
  {
   "cell_type": "code",
   "execution_count": 32,
   "id": "e4792e73-c22e-45fe-9325-005dd5ec9454",
   "metadata": {},
   "outputs": [
    {
     "name": "stdout",
     "output_type": "stream",
     "text": [
      "40320\n"
     ]
    }
   ],
   "source": [
    "#E8:\n",
    "\n",
    "def factorial(number):\n",
    "    if number==0 or number==1 :\n",
    "        return 1 \n",
    "    else:\n",
    "        return number*factorial(number-1)\n",
    "  \n",
    "\n",
    "print(factorial(8))\n"
   ]
  },
  {
   "cell_type": "code",
   "execution_count": 75,
   "id": "fd716b04-d826-4687-8257-bb0abbc0c4d9",
   "metadata": {},
   "outputs": [
    {
     "name": "stdout",
     "output_type": "stream",
     "text": [
      "{'mean': 4.5, 'median': 5.0, 'mode': 6}\n"
     ]
    }
   ],
   "source": [
    "#E9:\n",
    "\n",
    "import numpy as np\n",
    "\n",
    "def calculate_stats(list):\n",
    "    # Calculate Mean\n",
    "    mean = np.mean(list)\n",
    "    \n",
    "    # Calculate Median\n",
    "    median = np.median(list)\n",
    "    \n",
    "    # Calculate Mode\n",
    "    mode = int(np.bincount(list).argmax())\n",
    "    \n",
    "    # Create and return dictionary with results\n",
    "    stats = {\n",
    "        'mean': mean,\n",
    "        'median': median,\n",
    "        'mode': mode\n",
    "    }\n",
    "    \n",
    "    return stats\n",
    "\n",
    "list = [1, 2, 3, 4, 5, 5, 6, 6, 6, 7]\n",
    "stats = calculate_stats(numbers)\n",
    "print(stats)\n",
    "    "
   ]
  },
  {
   "cell_type": "code",
   "execution_count": 85,
   "id": "eb361ce4-fc1a-40c6-8cff-ef4b8dc6edae",
   "metadata": {},
   "outputs": [],
   "source": [
    "#F10:\n",
    "\n",
    "def rmse(predict, actual):\n",
    "    n=len(predict)\n",
    "    square_error=0\n",
    "\n",
    "    #sum of squared errors \n",
    "    for i in range(n): \n",
    "        square_error +=(predict[i]-actual[i])**2\n",
    "\n",
    "    mean_square_error=square_error/n\n",
    "\n",
    "    rmse_val=mean_square_error**0.5\n",
    "\n",
    "    return rmse_val \n",
    "\n"
   ]
  },
  {
   "cell_type": "code",
   "execution_count": null,
   "id": "20de0fa2-4045-4659-864c-0a7c34dff306",
   "metadata": {},
   "outputs": [],
   "source": [
    "#F11:\n",
    "\n",
    "#ASK"
   ]
  },
  {
   "cell_type": "markdown",
   "id": "c8eceb81-7916-4b59-b8a3-dc636a169f63",
   "metadata": {},
   "source": [
    "## Real-World Questions on Functions\n"
   ]
  },
  {
   "cell_type": "code",
   "execution_count": 89,
   "id": "ed2efbd6-300e-4cbd-ad81-eb5888b5d709",
   "metadata": {},
   "outputs": [
    {
     "name": "stdout",
     "output_type": "stream",
     "text": [
      "{'Product_A': 225.0, 'Product_B': 550.0, 'Product_C': 175.0}\n"
     ]
    }
   ],
   "source": [
    "# Question 1: Calculate the Monthly Sales Average\n",
    "\"\"\" You are given a dictionary where the keys are product names and the values are lists of monthly\n",
    "sales figures for each product. Write a function to calculate the average monthly sales for each\n",
    "product. \"\"\"\n",
    "\n",
    "import numpy as np\n",
    "\n",
    "# Sample data\n",
    "sales_data = {\n",
    " 'Product_A': [150, 200, 250, 300],\n",
    " 'Product_B': [400, 500, 600, 700],\n",
    " 'Product_C': [100, 150, 200, 250]\n",
    "}\n",
    "\n",
    "\n",
    "def avg_monthly_sales (sample_data):\n",
    "    averages = {}\n",
    "    for product,sales in sales_data.items():\n",
    "        averages[product]=np.mean(sales)\n",
    "    return averages\n",
    "        \n",
    "# Example usage\n",
    "averages = avg_monthly_sales(sales_data)\n",
    "print(averages)\n"
   ]
  },
  {
   "cell_type": "code",
   "execution_count": 90,
   "id": "10f45970-8ab3-4a61-ae65-180001e08bad",
   "metadata": {},
   "outputs": [
    {
     "name": "stdout",
     "output_type": "stream",
     "text": [
      "4\n"
     ]
    }
   ],
   "source": [
    "# Question 2: Count Unique Values in a DataFrame Column\n",
    "\"\"\"Given a DataFrame, write a function to count the number of unique values in a specified column.\"\"\"\n",
    "\n",
    "import pandas as pd\n",
    "\n",
    "# Sample data\n",
    "data = {\n",
    " 'Name': ['Alice', 'Bob', 'Charlie', 'David', 'Alice'],\n",
    " 'Age': [25, 30, 35, 40, 25]\n",
    "}\n",
    "df = pd.DataFrame(data)\n",
    "\n",
    "def count_unique(df,column):\n",
    "    return df[column].nunique()\n",
    "\n",
    "# Example usage\n",
    "unique_names_count = count_unique(df, 'Name')\n",
    "print(unique_names_count)\n"
   ]
  },
  {
   "cell_type": "code",
   "execution_count": 97,
   "id": "3eab0dad-82d7-4da1-b6cf-741ecd93248e",
   "metadata": {},
   "outputs": [
    {
     "name": "stdout",
     "output_type": "stream",
     "text": [
      "      A     B\n",
      "0  0.00  0.00\n",
      "1  0.25  0.25\n",
      "2  0.50  0.50\n",
      "3  0.75  0.75\n",
      "4  1.00  1.00\n"
     ]
    }
   ],
   "source": [
    "# Question 3: Normalize Data in a DataFrame\n",
    "\n",
    "\"\"\" Write a function to normalize the data in a DataFrame such that each value\n",
    "in a column is scaled to a range of 0 to 1.\"\"\"\n",
    "\n",
    "import pandas as pd\n",
    "import numpy as np\n",
    "\n",
    "# Sample data\n",
    "data = {\n",
    " 'A': [1, 2, 3, 4, 5],\n",
    " 'B': [10, 20, 30, 40, 50]\n",
    "}\n",
    "df = pd.DataFrame(data)\n",
    "\n",
    "def normalize_data(df):\n",
    "    result=df.copy()\n",
    "    for column in result.columns:\n",
    "        min_value=result[column].min()\n",
    "        max_value=result[column].max()\n",
    "        result[column]=((result[column]-min_value)/(max_value-min_value))\n",
    "    return result\n",
    "\n",
    "#Example usage:\n",
    "normalized_df = normalize_data(df)\n",
    "print(normalized_df)      "
   ]
  },
  {
   "cell_type": "code",
   "execution_count": 99,
   "id": "c508dabd-dc2d-4ef3-b68a-e9650671cb50",
   "metadata": {},
   "outputs": [
    {
     "name": "stdout",
     "output_type": "stream",
     "text": [
      "A    1\n",
      "B    2\n",
      "C    2\n",
      "dtype: int64\n"
     ]
    }
   ],
   "source": [
    "# Question 4: Find Missing Values\n",
    "\n",
    "\"\"\" Given a DataFrame, write a function to find and return the number of\n",
    "missing values in each column.\"\"\"\n",
    "\n",
    "import pandas as pd\n",
    "\n",
    "# Sample data\n",
    "data = {\n",
    " 'A': [1, 2, None, 4, 5],\n",
    " 'B': [None, 2, 3, 4, None],\n",
    " 'C': [1, None, 3, None, 5]\n",
    "}\n",
    "df = pd.DataFrame(data)\n",
    "\n",
    "def find_missing(df):\n",
    "    return df.isnull().sum()\n",
    "\n",
    "#Example usage\n",
    "cleaned_data=find_missing(df)\n",
    "print(cleaned_data)\n"
   ]
  },
  {
   "cell_type": "code",
   "execution_count": 116,
   "id": "584c38ea-cd85-4134-885d-f32a9dd43213",
   "metadata": {},
   "outputs": [
    {
     "name": "stdout",
     "output_type": "stream",
     "text": [
      "    Name  Age\n",
      "1    Bob   27\n",
      "3  David   32\n",
      "4    Eve   29\n"
     ]
    }
   ],
   "source": [
    "# Question 5: Selecting Specific Rows and Columns\n",
    "\n",
    "\"\"\" Given a DataFrame, how do you select rows where a specific column's\n",
    "value is greater than a given threshold and only select certain columns?\"\"\"\n",
    "\n",
    "import pandas as pd\n",
    "# Sample data\n",
    "\n",
    "data = {\n",
    " 'Name': ['Alice', 'Bob', 'Charlie', 'David', 'Eve'],\n",
    " 'Age': [24, 27, 22, 32, 29],\n",
    " 'Score': [85, 95, 70, 60, 80]\n",
    "}\n",
    "df = pd.DataFrame(data)\n",
    "\n",
    "\n",
    "def select_rows_and_columns(df, threshold, columns):\n",
    "     \"\"\"\n",
    " Function to select rows where 'Age' is greater than the threshold\n",
    " and select specified columns.\n",
    " \"\"\"\n",
    "     specified_data=df[df['Age']>threshold]\n",
    "     return specified_data[columns]\n",
    "\n",
    "\n",
    "\n",
    "#Example Usage\n",
    "filtered_data=select_rows_and_columns(df, 25, ['Name', 'Age'])\n",
    "print(filtered_data)\n",
    "\n"
   ]
  },
  {
   "cell_type": "code",
   "execution_count": 117,
   "id": "ec4ba4f5-6563-43fe-9bfd-8e332bf5e538",
   "metadata": {},
   "outputs": [
    {
     "name": "stdout",
     "output_type": "stream",
     "text": [
      "  Department  Salary\n",
      "0    Finance   70000\n",
      "1         HR   95000\n",
      "2         IT  125000\n"
     ]
    }
   ],
   "source": [
    "# Question 6: Grouping and Aggregation\n",
    "\n",
    "\"\"\"How do you group a DataFrame by a column and compute the sum of another\n",
    "column?\"\"\"\n",
    "\n",
    "import pandas as pd\n",
    "# Sample data\n",
    "\n",
    "data = {\n",
    " 'Department': ['HR', 'IT', 'HR', 'IT', 'Finance'],\n",
    " 'Salary': [50000, 60000, 45000, 65000, 70000]\n",
    "}\n",
    "df = pd.DataFrame(data)\n",
    "\n",
    "def group_and_aggregate(df):\n",
    " \"\"\"\n",
    " Function to group by 'Department' and compute the sum of 'Salary'.\n",
    " \"\"\"\n",
    " return df.groupby('Department')['Salary'].sum().reset_index()\n",
    "    \n",
    "# Example usage\n",
    "result = group_and_aggregate(df)\n",
    "print(result)\n"
   ]
  },
  {
   "cell_type": "markdown",
   "id": "2f32c753-db34-4d4b-afc9-b93c41e6ee59",
   "metadata": {},
   "source": [
    "## Pandas Questions\n",
    "- Question 1: Filter DataFrame by Multiple Conditions: Given a DataFrame with columns Name, Age, and Score, write a function to filter rows\n",
    "where Age is greater than 25 and Score is greater than 80.\n",
    "- Question 2: Pivot Table Creation: Given a DataFrame with columns Department, Employee, and Salary, write a function to create a pivot\n",
    "table that shows the average salary for each department.\n",
    "- Question 3: Merge DataFrames: Given two DataFrames, df1 and df2, which both have a common column ID, write a function to merge\n",
    "these DataFrames on the ID column and return the merged DataFrame.\n",
    "- Question 4: Handle Missing Values: Write a function to fill missing values in a DataFrame. If the column is numerical, fill with the mean of the\n",
    "column. If the column is categorical, fill with the mode of the column.\n",
    "- Question 5: Calculate Rolling Mean: Given a DataFrame with a time series column Value, write a function to calculate the rolling mean with\n",
    "a window size of 3 and add it as a new column to the DataFrame.\n"
   ]
  },
  {
   "cell_type": "code",
   "execution_count": 138,
   "id": "bc08778a-bc3e-4588-91f8-0dc7e657a481",
   "metadata": {},
   "outputs": [
    {
     "name": "stdout",
     "output_type": "stream",
     "text": [
      "   Name  Age  Score\n",
      "1  Paul   29     82\n",
      "2   Joe   30     90\n"
     ]
    }
   ],
   "source": [
    "#Q1:\n",
    "\n",
    "import pandas as pd\n",
    "\n",
    "data={\n",
    "    'Name': ['Sam','Paul','Joe'],\n",
    "    'Age':[25,29,30],\n",
    "    'Score': [80,82,90]\n",
    "}\n",
    "\n",
    "df=pd.DataFrame(data)\n",
    "\n",
    "def filter_df(df):\n",
    "    filtered=df[(df['Age']>25) & (df['Score']>80)]\n",
    "    return filtered\n",
    "\n",
    "answer=filter_df(df)\n",
    "print(answer)\n",
    "    "
   ]
  },
  {
   "cell_type": "code",
   "execution_count": 139,
   "id": "3df053c8-877a-4de2-9ecc-9e97ccca71e7",
   "metadata": {},
   "outputs": [
    {
     "name": "stdout",
     "output_type": "stream",
     "text": [
      "             Salary\n",
      "Department         \n",
      "Finance     70000.0\n",
      "HR          47500.0\n",
      "IT          62500.0\n"
     ]
    }
   ],
   "source": [
    "#Q2:\n",
    "\n",
    "import pandas as pd\n",
    "\n",
    "data={\n",
    "'Department': ['HR', 'IT', 'HR', 'IT', 'Finance'],\n",
    "'Employee':['Alice' , 'Bob', 'Joe', 'Lucy', 'Steven'],\n",
    "'Salary': [50000, 60000, 45000, 65000, 70000]\n",
    "}\n",
    "\n",
    "df=pd.DataFrame(data)\n",
    "\n",
    "def avg_pivot(df):\n",
    "    pivot_table=pd.pivot_table(df, values='Salary', index='Department', aggfunc='mean')\n",
    "    return pivot_table\n",
    "\n",
    "answer_pivot=avg_pivot(df)\n",
    "print(answer_pivot)\n",
    "    "
   ]
  },
  {
   "cell_type": "code",
   "execution_count": 137,
   "id": "46a69634-4667-4349-a5fa-2c4a5c75f6e7",
   "metadata": {},
   "outputs": [
    {
     "name": "stdout",
     "output_type": "stream",
     "text": [
      "   ID   Name  Score\n",
      "0   1  Alice     80\n",
      "1   2    Bob     85\n"
     ]
    }
   ],
   "source": [
    "#Q3:\n",
    "\n",
    "data1 = {\n",
    "    'ID': [1, 2, 3],\n",
    "    'Name': ['Alice', 'Bob', 'Charlie']\n",
    "}\n",
    "df1 = pd.DataFrame(data1)\n",
    "\n",
    "# Sample data for df2\n",
    "data2 = {\n",
    "    'ID': [1, 2, 4],\n",
    "    'Score': [80, 85, 90],\n",
    "}\n",
    "df2 = pd.DataFrame(data2)\n",
    "\n",
    "def merge_dataframes(df1, df2):\n",
    "    \"\"\"\n",
    "    Function to merge two DataFrames on the 'ID' column.\n",
    "    \"\"\"\n",
    "    merged_df = pd.merge(df1, df2, on='ID', how='inner')\n",
    "    return merged_df\n",
    "\n",
    "# Example usage\n",
    "result = merge_dataframes(df1, df2)\n",
    "print(result)"
   ]
  },
  {
   "cell_type": "code",
   "execution_count": 151,
   "id": "f79ce10d-4be6-4387-abbe-fd783c56b1f2",
   "metadata": {},
   "outputs": [
    {
     "name": "stdout",
     "output_type": "stream",
     "text": [
      "   Name   Age  Score\n",
      "0   Sam  25.0     80\n",
      "1  Paul  25.0     82\n",
      "2  Paul  30.0     90\n"
     ]
    }
   ],
   "source": [
    "#Q4:\n",
    "\n",
    "import pandas as pd\n",
    "\n",
    "data={\n",
    "    'Name': ['Sam','Paul',None],\n",
    "    'Age':[25,None,30],\n",
    "    'Score': [80,82,90]\n",
    "}\n",
    "\n",
    "df=pd.DataFrame(data)\n",
    "\n",
    "def fill_missing(df):\n",
    "    for column in df.columns:\n",
    "         if df[column].isnull().any(): \n",
    "            if df[column].dtype in ['int64']:  # Numerical columns\n",
    "                df[column].fillna(df[column].mean(), inplace=True)\n",
    "            else:  # Categorical columns\n",
    "                df[column].fillna(df[column].mode()[0], inplace=True)\n",
    "    return df\n",
    "        \n",
    "\n",
    "filled_data=fill_missing(df)\n",
    "print(filled_data)"
   ]
  },
  {
   "cell_type": "code",
   "execution_count": 152,
   "id": "59ac9b66-2f39-4e2a-b509-987126fb55c4",
   "metadata": {},
   "outputs": [
    {
     "name": "stdout",
     "output_type": "stream",
     "text": [
      "        Date  Value  RollingMean\n",
      "0 2023-01-01     10          NaN\n",
      "1 2023-01-02     20          NaN\n",
      "2 2023-01-03     30         20.0\n",
      "3 2023-01-04     40         30.0\n",
      "4 2023-01-05     50         40.0\n",
      "5 2023-01-06     60         50.0\n",
      "6 2023-01-07     70         60.0\n",
      "7 2023-01-08     80         70.0\n",
      "8 2023-01-09     90         80.0\n",
      "9 2023-01-10    100         90.0\n"
     ]
    }
   ],
   "source": [
    "#Q5:\n",
    "\n",
    "data = {\n",
    "    'Date': pd.date_range(start='2023-01-01', periods=10, freq='D'),\n",
    "    'Value': [10, 20, 30, 40, 50, 60, 70, 80, 90, 100]\n",
    "}\n",
    "\n",
    "df = pd.DataFrame(data)\n",
    "\n",
    "def add_rolling_mean(df):\n",
    "    \"\"\"\n",
    "    Function to calculate the rolling mean with a window size of 3\n",
    "    and add it as a new column to the DataFrame.\n",
    "    \"\"\"\n",
    "    df['RollingMean'] = df['Value'].rolling(window=3).mean()\n",
    "    return df\n",
    "\n",
    "# Example usage\n",
    "result = add_rolling_mean(df)\n",
    "print(result)"
   ]
  },
  {
   "cell_type": "markdown",
   "id": "87400215-777c-40a9-be26-5d1a93ed43f8",
   "metadata": {},
   "source": [
    "## Lists Questions"
   ]
  },
  {
   "cell_type": "markdown",
   "id": "fcb4d095-b2eb-473f-a6c1-69693671abaa",
   "metadata": {},
   "source": [
    "- Question 1: Chunk a List: Write a function to split a list into chunks of a given size. For example, given the list [1, 2, 3, 4, 5, 6, 7, 8, 9] and\n",
    "chunk size 3, the function should return [[1, 2, 3], [4, 5, 6], [7, 8, 9]].\n",
    "- Question 2: List Intersection: Write a function to find the intersection of two lists, returning a list of elements that are present in both lists.\n",
    "- Question 3: Rotate List: Write a function to rotate a list n positions to the left. For example, rotating [1, 2, 3, 4, 5] by 2 positions should result\n",
    "in [3, 4, 5, 1, 2].\n",
    "- Question 4: Find Duplicates: Write a function to find all duplicate elements in a list. The function should return a list of duplicates.\n",
    "- Question 5: Cumulative Sum: Write a function to compute the cumulative sum of a list. For example, given the list [1, 2, 3, 4], the function\n",
    "should return [1, 3, 6, 10]."
   ]
  },
  {
   "cell_type": "code",
   "execution_count": 156,
   "id": "3cb6c0f0-9726-446a-b69f-ee80aef3c956",
   "metadata": {},
   "outputs": [
    {
     "name": "stdout",
     "output_type": "stream",
     "text": [
      "[[1, 2, 3], [4, 5, 6], [7, 8, 9]]\n"
     ]
    }
   ],
   "source": [
    "#Q1:\n",
    "\n",
    "list=[1,2,3,4,5,6,7,8,9]\n",
    "\n",
    "def split(input_list, chunk_size):\n",
    "     return [input_list[i:i+chunk_size] for i in range(0, len(input_list), chunk_size)]\n",
    "\n",
    "final_list=split(list,3)\n",
    "print(final_list)\n"
   ]
  },
  {
   "cell_type": "code",
   "execution_count": 164,
   "id": "5f4eba93-8cec-4065-9542-289ea16bdd1f",
   "metadata": {},
   "outputs": [
    {
     "name": "stdout",
     "output_type": "stream",
     "text": [
      "[4, 5]\n"
     ]
    }
   ],
   "source": [
    "#Q2:\n",
    "\n",
    "def find_intersection(list1, list2):\n",
    "\n",
    "    # Using list comprehension to find common elements\n",
    "    intersection = [value for value in list1 if value in list2]\n",
    "    \n",
    "    return intersection\n",
    "\n",
    "# Example usage\n",
    "list1 = [1, 2, 3, 4, 5]\n",
    "list2 = [4, 5, 6, 7, 8]\n",
    "final_intersect_list = find_intersection(list1, list2)\n",
    "print(final_intersect_list)"
   ]
  },
  {
   "cell_type": "code",
   "execution_count": 165,
   "id": "8b3d54cc-144b-4858-8174-062c13d86d9f",
   "metadata": {},
   "outputs": [
    {
     "name": "stdout",
     "output_type": "stream",
     "text": [
      "[3, 4, 5, 1, 2]\n"
     ]
    }
   ],
   "source": [
    "#Q3:\n",
    "\n",
    "def rotate_list_left(lst, n):\n",
    "    \n",
    "    # Perform the rotation using list slicing\n",
    "    rotated_list = lst[n:] + lst[:n]\n",
    "    \n",
    "    return rotated_list\n",
    "\n",
    "# Example usage\n",
    "original_list = [1, 2, 3, 4, 5]\n",
    "rotated_list = rotate_list_left(original_list, 2)\n",
    "print(rotated_list)"
   ]
  },
  {
   "cell_type": "code",
   "execution_count": 166,
   "id": "33159a6f-6dc4-4b86-94f7-2d9f33036c20",
   "metadata": {},
   "outputs": [
    {
     "name": "stdout",
     "output_type": "stream",
     "text": [
      "[2, 4, 5, 5]\n"
     ]
    }
   ],
   "source": [
    "#Q4:\n",
    "\n",
    "def find_duplicates(lst):\n",
    "\n",
    "    seen = set()\n",
    "    duplicates = []\n",
    "    \n",
    "    # Iterate through the list\n",
    "    for item in lst:\n",
    "        # If element is already in the set, it's a duplicate\n",
    "        if item in seen:\n",
    "            duplicates.append(item)\n",
    "        else:\n",
    "            seen.add(item)\n",
    "    \n",
    "    return duplicates\n",
    "\n",
    "# Example usage\n",
    "my_list = [1, 2, 2, 3, 4, 4, 5, 5, 5]\n",
    "duplicate_elements = find_duplicates(my_list)\n",
    "print(duplicate_elements)"
   ]
  },
  {
   "cell_type": "code",
   "execution_count": 167,
   "id": "201c290a-0299-47bc-a304-a1e372aabb30",
   "metadata": {},
   "outputs": [
    {
     "name": "stdout",
     "output_type": "stream",
     "text": [
      "[1, 3, 6, 10]\n"
     ]
    }
   ],
   "source": [
    "#Q5:\n",
    "\n",
    "def cumulative_sum(lst):\n",
    "    # Initialize an empty list to store cumulative sums\n",
    "    cumulative = []\n",
    "    current_sum = 0\n",
    "    \n",
    "    # Iterate through the list and calculate cumulative sums\n",
    "    for num in lst:\n",
    "        current_sum += num\n",
    "        cumulative.append(current_sum)\n",
    "    \n",
    "    return cumulative\n",
    "\n",
    "# Example usage\n",
    "my_list = [1, 2, 3, 4]\n",
    "cumulative_sum_list = cumulative_sum(my_list)\n",
    "print(cumulative_sum_list)"
   ]
  }
 ],
 "metadata": {
  "kernelspec": {
   "display_name": "Python 3 (ipykernel)",
   "language": "python",
   "name": "python3"
  },
  "language_info": {
   "codemirror_mode": {
    "name": "ipython",
    "version": 3
   },
   "file_extension": ".py",
   "mimetype": "text/x-python",
   "name": "python",
   "nbconvert_exporter": "python",
   "pygments_lexer": "ipython3",
   "version": "3.11.7"
  }
 },
 "nbformat": 4,
 "nbformat_minor": 5
}
