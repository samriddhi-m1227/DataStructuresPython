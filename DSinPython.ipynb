{
 "cells": [
  {
   "cell_type": "markdown",
   "id": "a9cec9b2-aca2-48f2-ac29-610b04b6b988",
   "metadata": {},
   "source": [
    "## Data Structures in Python\n",
    "- Helps in organizing and storing data components efficiently\n",
    "\n",
    "- Python has multiple inbuilt data structures\n",
    "\n",
    "- various data structures:  list ,tuples, arrays, queues,stacks , graphs , dictionaries\n",
    "  \n",
    "\n"
   ]
  },
  {
   "cell_type": "markdown",
   "id": "7354c734-195a-4ad7-b246-26209f1fe41b",
   "metadata": {},
   "source": [
    "## Summary\n",
    "- Below I have gone over the various data structures in Python, and all their characteristics. I provide examples of basic functions present within these data structures, and conclude with some solved questions about these topics."
   ]
  },
  {
   "cell_type": "markdown",
   "id": "df0e30d5-6d19-4082-8526-9bf9cc1e777a",
   "metadata": {},
   "source": [
    "## Lists\n",
    "\n",
    "- Present in the ordered form\n",
    "- All the items in the lists are MUTABLE( can be changed)\n",
    "- [] brackets are used to create lists \n",
    " - items can be of any datatype\n",
    " - output is always presented as a list.[]"
   ]
  },
  {
   "cell_type": "code",
   "execution_count": 17,
   "id": "1e24dee2-bcc6-488b-8860-deb86f3a6431",
   "metadata": {},
   "outputs": [
    {
     "name": "stdout",
     "output_type": "stream",
     "text": [
      "['apple', 1, 'banana', 2, 'Kiwi', 3]\n"
     ]
    }
   ],
   "source": [
    "# Create a list\n",
    "\n",
    "fruits = ['apple',1, 'banana', 2, 'Kiwi', 3]\n",
    "print(fruits)"
   ]
  },
  {
   "cell_type": "code",
   "execution_count": null,
   "id": "8d2c4bfc-e7be-4dfe-94c7-1211622d2c16",
   "metadata": {},
   "outputs": [],
   "source": [
    "# Accessing the element using lists\n",
    "print(fruits[2])\n",
    "\n",
    "# 6 elements in the list. Indexing is from 0 to 5.\n"
   ]
  },
  {
   "cell_type": "code",
   "execution_count": 21,
   "id": "777e9a08-069d-477a-8786-fc9c27f54faf",
   "metadata": {},
   "outputs": [
    {
     "name": "stdout",
     "output_type": "stream",
     "text": [
      "['apple', 1, 'banana', 2, 'Kiwi', 3]\n",
      "[1, 'banana', 2]\n",
      "['apple', 1, 'banana', 2]\n",
      "[1, 'banana', 2, 'Kiwi', 3]\n"
     ]
    }
   ],
   "source": [
    "# SLICING \n",
    "# list[ inclusive : exclusive :step]\n",
    "print(fruits)\n",
    "print(fruits[1 :4])\n",
    "print(fruits[ : 4])  #invisible 0 there \n",
    "print(fruits[1: ])   #invisible 0 there \n"
   ]
  },
  {
   "cell_type": "code",
   "execution_count": 25,
   "id": "3cffb5d2-5957-40ff-b8c8-c10272afa2bc",
   "metadata": {},
   "outputs": [
    {
     "name": "stdout",
     "output_type": "stream",
     "text": [
      "[3, 'Cherry', 2, 'banana', 'Cherry', 'apple']\n"
     ]
    }
   ],
   "source": [
    "# Modifying the lists \n",
    "fruits[4] ='Cherry'\n",
    "print(fruits)"
   ]
  },
  {
   "cell_type": "code",
   "execution_count": 26,
   "id": "3903336b-5a53-438b-9319-e0237ccb728d",
   "metadata": {},
   "outputs": [
    {
     "name": "stdout",
     "output_type": "stream",
     "text": [
      "['apple', 'Cherry', 'banana', 2, 'Cherry', 3]\n"
     ]
    }
   ],
   "source": [
    "#Reversing the list\n",
    "\n",
    "fruits.reverse()\n",
    "print(fruits)"
   ]
  },
  {
   "cell_type": "code",
   "execution_count": 33,
   "id": "be379b76-05b2-4e20-8666-52c444a494b2",
   "metadata": {},
   "outputs": [
    {
     "name": "stdout",
     "output_type": "stream",
     "text": [
      "['apple', 'Cherry', 'banana', 2, 'Cherry', 3]\n"
     ]
    }
   ],
   "source": [
    "print(fruits)"
   ]
  },
  {
   "cell_type": "code",
   "execution_count": 31,
   "id": "777e1c6a-fa98-4b92-9a53-4ed892232204",
   "metadata": {},
   "outputs": [
    {
     "name": "stdout",
     "output_type": "stream",
     "text": [
      "[3, 'Cherry', 2, 'banana', 'Cherry', 'apple']\n"
     ]
    }
   ],
   "source": [
    "# Reversing the list using slicing \n",
    "reverse_list = fruits[ :: -1]\n",
    "print(reverse_list)"
   ]
  },
  {
   "cell_type": "code",
   "execution_count": 34,
   "id": "2a5836e8-e205-4050-801e-3afcab2d1dc1",
   "metadata": {},
   "outputs": [
    {
     "name": "stdout",
     "output_type": "stream",
     "text": [
      "['apple', 'Cherry', 'banana', 2, 'Cherry', 3]\n"
     ]
    }
   ],
   "source": [
    "fruits[ : : -2]\n",
    "print(fruits)"
   ]
  },
  {
   "cell_type": "markdown",
   "id": "2a7577db-0417-49d8-a934-4936c1c0df64",
   "metadata": {},
   "source": [
    "## Tuples \n",
    "- cannot be changed (immutable)\n",
    "- can only access the elements\n",
    "- () are used\n",
    "- heterogeneous elements are stored.\n"
   ]
  },
  {
   "cell_type": "code",
   "execution_count": 3,
   "id": "218c7e9c-c4e5-4f0d-b530-0b78d1e10b8f",
   "metadata": {},
   "outputs": [
    {
     "name": "stdout",
     "output_type": "stream",
     "text": [
      "1\n",
      "(2, 3, 4)\n"
     ]
    }
   ],
   "source": [
    "#Creating a tuple\n",
    "my_tuple=(1,2,3,4,5)\n",
    "\n",
    "#Accessing elements\n",
    "print(my_tuple[0]) #Output: 1\n",
    "\n",
    "#Tuples are immutable\n",
    "#my_tuple[1]=10  #This will raise a TypeError\n",
    "\n",
    "#Slicing\n",
    "print(my_tuple[1:4])   #Output: (2,3,4)"
   ]
  },
  {
   "cell_type": "markdown",
   "id": "e79924ab-48ef-4086-9631-820e53602890",
   "metadata": {},
   "source": [
    "## Dictionary\n",
    "- can be changed (mutable)\n",
    "- uses key-value pairs\n",
    "- represented by {}\n",
    "- output is also in {}"
   ]
  },
  {
   "cell_type": "code",
   "execution_count": 37,
   "id": "b34c79c0-fd83-4792-b49e-eb0fbc120902",
   "metadata": {},
   "outputs": [
    {
     "name": "stdout",
     "output_type": "stream",
     "text": [
      "Alice\n",
      "{'name': 'Sophie', 'age': 25, 'city': 'New York'}\n",
      "{'name': 'Sophie', 'age': 25, 'city': 'New York', 'email': 'sophie@gmail.com'}\n",
      "{'name': 'Sophie', 'city': 'New York', 'email': 'sophie@gmail.com'}\n"
     ]
    }
   ],
   "source": [
    "#Creating a dictionary\n",
    "my_dict={'name': 'Alice', 'age': 25, 'city': 'New York'}\n",
    "\n",
    "#Accessing values\n",
    "print(my_dict['name'])  #Output: Alice \n",
    "\n",
    "#Modifying elements\n",
    "my_dict['name']='Sophie'\n",
    "print(my_dict)\n",
    "\n",
    "#Adding a key-value pairs \n",
    "my_dict['email']='sophie@gmail.com'\n",
    "print(my_dict)\n",
    "\n",
    "\n",
    "#Removing a key-value pairs \n",
    "del my_dict['age']\n",
    "print(my_dict)   #Output: {'name': 'Sophie', 'city': 'New York', 'email': sophie@gmail.com"
   ]
  },
  {
   "cell_type": "markdown",
   "id": "6fe13539-21db-4b0c-b36a-264fae663572",
   "metadata": {},
   "source": [
    "## Sets \n",
    "- unordered elements \n",
    "- unique elements\n",
    "- mutable\n",
    "- no indexing "
   ]
  },
  {
   "cell_type": "code",
   "execution_count": 38,
   "id": "75e94967-2413-4d3c-82af-cd0a1ebcb016",
   "metadata": {},
   "outputs": [
    {
     "name": "stdout",
     "output_type": "stream",
     "text": [
      "{1, 2, 3, 4, 5, 6}\n",
      "{1, 2, 4, 5, 6}\n",
      "{4, 5, 6}\n",
      "{1, 2, 4, 5, 6, 7, 8}\n",
      "{1, 2}\n"
     ]
    }
   ],
   "source": [
    "# Creating a set\n",
    "my_set={1,2,3,4,5}\n",
    "\n",
    "#Adding elements \n",
    "my_set.add(6)\n",
    "print(my_set)  #Output: {1,2,3,4,5,6}\n",
    "\n",
    "#Removing elements\n",
    "my_set.remove(3)\n",
    "print(my_set)   #Output: {1,2,4,5,6}\n",
    "\n",
    "#Set Operations\n",
    "another_set={4,5,6,7,8}\n",
    "print(my_set & another_set) #Output: {4,5,6} (intersection)\n",
    "print(my_set | another_set) #Output: {1,2,4,5,6,7,8}  (union)\n",
    "print(my_set - another_set) #Output: {1,2}  (difference) (differnece)"
   ]
  },
  {
   "cell_type": "code",
   "execution_count": 16,
   "id": "74d26904-7187-4b02-819b-0019cb314a3e",
   "metadata": {},
   "outputs": [
    {
     "name": "stdout",
     "output_type": "stream",
     "text": [
      "{'name': 'Alice', 'age': 25, 'city': 'New York'}\n",
      "{'name': 'Alice', 'age': 25, 'city': 'New York', 'email': 'alice@gmail.com'}\n",
      "{'name': 'Alice', 'age': 25, 'city': 'New York', 'email': 'alice@gmail.com'}\n",
      "[1, 1, 3, 4, 5, 9]\n",
      "[1, 1, 3, 4, 5, 9]\n",
      "[9, 5, 4, 3, 1, 1]\n",
      "(1, 2, 3, 4, 5, 6)\n"
     ]
    }
   ],
   "source": [
    "## Questions\n",
    "\n",
    "#How can you convert a list of tuples into a dictionary in Python?\n",
    "list_of_tuples=[('name', 'Alice'),('age', 25),('city', 'New York')]\n",
    "my_dict=dict(list_of_tuples)\n",
    "print(my_dict)   #Output: {'name': 'Alice', 'age': 25, 'city': 'New York'}\n",
    "\n",
    "#--------------------------------------------------------------------------------\n",
    "\n",
    "#How can you merge two dictionaries in Python?\n",
    "dict1={'name': 'Alice', 'age':25}\n",
    "dict2={'city': 'New York', 'email': 'alice@gmail.com'}\n",
    "\n",
    "#Using update()\n",
    "dict1.update(dict2)\n",
    "print(dict1)  #Output: {'name': 'Alice', 'age': 25, 'city': 'New York', 'email': 'alice@gmail.com'}\n",
    "\n",
    "#Using dictionary unpacking (Python 3.5+)\n",
    "merged_dict= {**dict1, **dict2}\n",
    "print(merged_dict)  #{'name': 'Alice', 'age': 25, 'city': 'New York', 'email': 'alice@gmail.com'}\n",
    "\n",
    "#---------------------------------------------------------------------------------------------------------\n",
    "\n",
    "#How can you sort a list in Python \n",
    "my_list=[3,1,4,1,5,9]\n",
    "\n",
    "#Using sort() method (sorts in-place)\n",
    "my_list.sort()\n",
    "print(my_list)   #Output: [1, 1, 3, 4, 5, 9]\n",
    "\n",
    "#Using sorted() function (returns a new sorted list)\n",
    "sorted_list=sorted(my_list)\n",
    "print(sorted_list)  #[1, 1, 3, 4, 5, 9]\n",
    "\n",
    "#Using sort() to sort it in reverse\n",
    "my_list.sort(reverse=True)\n",
    "print(my_list)     # Output: [9, 5, 4, 3, 1, 1]\n",
    "\n",
    "#----------------------------------------------------------------------------------------------\n",
    "\n",
    "#How can you concatenate two tuples in Python?\n",
    "tuple1=(1,2,3)\n",
    "tuple2=(4,5,6)\n",
    "concatenated_tuple= tuple1+ tuple2\n",
    "print(concatenated_tuple)   #Output: (1, 2, 3, 4, 5, 6)"
   ]
  }
 ],
 "metadata": {
  "kernelspec": {
   "display_name": "Python 3 (ipykernel)",
   "language": "python",
   "name": "python3"
  },
  "language_info": {
   "codemirror_mode": {
    "name": "ipython",
    "version": 3
   },
   "file_extension": ".py",
   "mimetype": "text/x-python",
   "name": "python",
   "nbconvert_exporter": "python",
   "pygments_lexer": "ipython3",
   "version": "3.11.7"
  }
 },
 "nbformat": 4,
 "nbformat_minor": 5
}
